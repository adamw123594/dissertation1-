{
 "cells": [
  {
   "cell_type": "code",
   "execution_count": null,
   "id": "a6eb6d07",
   "metadata": {},
   "outputs": [],
   "source": [
    "\n",
    "import pandas as pd\n",
    "import matplotlib.pyplot as plt\n",
    "from pathlib import Path\n",
    "\n",
    "# Paths\n",
    "master_with_aff_path = Path(\"data/master_with_affordability.csv\")  \n",
    "fig_dir = Path(\"figures\"); fig_dir.mkdir(parents=True, exist_ok=True)\n",
    "out_path = fig_dir / \"emigration_with_policy_shocks.png\"\n",
    "\n",
    "# Load dataset\n",
    "df = pd.read_csv(master_with_aff_path)\n",
    "df.columns = df.columns.str.strip()\n",
    "\n",
    "# Keep only needed columns\n",
    "df_events = df[[\"Year\", \"Emigration\"]].dropna().sort_values(\"Year\")\n",
    "\n",
    "# Plot\n",
    "plt.figure(figsize=(11, 6))\n",
    "plt.plot(df_events[\"Year\"], df_events[\"Emigration\"], marker=\"o\", linewidth=2, alpha=0.9, label=\"Emigration\")\n",
    "\n",
    "# Annotate events\n",
    "events = {\n",
    "    2004: \"EU Enlargement\",\n",
    "    2008: \"Global Financial Crisis\",\n",
    "    2016: \"Brexit Referendum\",\n",
    "    2020: \"COVID-19 Pandemic\"\n",
    "}\n",
    "\n",
    "for year, label in events.items():\n",
    "    if year in df_events[\"Year\"].values:\n",
    "        y_at_year = float(df_events.loc[df_events[\"Year\"] == year, \"Emigration\"].iloc[0])\n",
    "        plt.axvline(x=year, color=\"red\", linestyle=\"--\", linewidth=1, alpha=0.7)\n",
    "        plt.annotate(f\"{label} ({year})\", (year, y_at_year),\n",
    "                     xytext=(5, 10), textcoords=\"offset points\",\n",
    "                     fontsize=9, color=\"red\")\n",
    "\n",
    "plt.title(\"UK Emigration with Policy and Structural Shocks\", fontsize=14)\n",
    "plt.xlabel(\"Year\", fontsize=12)\n",
    "plt.ylabel(\"Emigration (thousands)\", fontsize=12)\n",
    "plt.grid(True, linestyle=\"--\", alpha=0.5)\n",
    "plt.legend()\n",
    "plt.tight_layout()\n",
    "\n",
    "plt.savefig(out_path, dpi=300, bbox_inches=\"tight\")\n",
    "plt.show()\n"
   ]
  }
 ],
 "metadata": {
  "language_info": {
   "name": "python"
  }
 },
 "nbformat": 4,
 "nbformat_minor": 5
}
