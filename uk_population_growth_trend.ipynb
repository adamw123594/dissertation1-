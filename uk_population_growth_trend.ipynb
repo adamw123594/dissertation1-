{
 "cells": [
  {
   "cell_type": "code",
   "execution_count": null,
   "id": "e7ac7259",
   "metadata": {},
   "outputs": [],
   "source": [
    "\n",
    "import pandas as pd\n",
    "import matplotlib.pyplot as plt\n",
    "\n",
    "# Load population data\n",
    "df_pop = pd.read_csv(\"total uk population .csv\")\n",
    "df_pop.columns = df_pop.columns.str.strip()\n",
    "df_pop.columns = ['Year', 'Population']\n",
    "df_pop['Year'] = df_pop['Year'].str.extract(r'(\\d{4})').astype(int)\n",
    "df_pop['Population'] = pd.to_numeric(df_pop['Population'], errors='coerce')\n",
    "\n",
    "# Plot population growth\n",
    "plt.figure(figsize=(12, 6))\n",
    "plt.plot(df_pop['Year'], df_pop['Population'] / 1_000_000, marker='o', color='green')\n",
    "plt.title(\"UK Population Growth Trend (1991–2024)\", fontsize=14, weight='bold')\n",
    "plt.xlabel(\"Year\")\n",
    "plt.ylabel(\"Population (Millions)\")\n",
    "plt.grid(True, linestyle='--', alpha=0.6)\n",
    "plt.tight_layout()\n",
    "plt.show()\n"
   ]
  }
 ],
 "metadata": {},
 "nbformat": 4,
 "nbformat_minor": 5
}
