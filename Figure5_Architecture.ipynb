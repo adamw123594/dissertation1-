{
 "cells": [
  {
   "cell_type": "markdown",
   "id": "96cd8a8c",
   "metadata": {},
   "source": [
    "# Figure 5 – System Architecture \n",
    "This notebook generates the clean, minimal architecture diagram used in Chapter 3."
   ]
  },
  {
   "cell_type": "code",
   "execution_count": null,
   "id": "87438cfd",
   "metadata": {},
   "outputs": [],
   "source": [
    "import matplotlib.pyplot as plt\n",
    "from matplotlib.patches import FancyBboxPatch\n",
    "\n",
    "def draw_simple_box(ax, text, xy, width=2.4, height=0.7, fc=\"#e6f0ff\", ec=\"#003366\"):\n",
    "    box = FancyBboxPatch(\n",
    "        (xy[0], xy[1]), width, height,\n",
    "        boxstyle=\"round,pad=0.02\",\n",
    "        linewidth=1, facecolor=fc, edgecolor=ec\n",
    "    )\n",
    "    ax.add_patch(box)\n",
    "    ax.text(xy[0] + width/2, xy[1] + height/2, text, ha=\"center\", va=\"center\", fontsize=9)\n",
    "\n",
    "def build_diagram(save_path=\"Figure_3_1_System_Architecture.png\"):\n",
    "    fig, ax = plt.subplots(figsize=(8, 5))\n",
    "    ax.set_xlim(0, 10)\n",
    "    ax.set_ylim(0, 7)\n",
    "    ax.axis('off')\n",
    "\n",
    "    # Boxes\n",
    "    draw_simple_box(ax, \"Data Sources\", (0.5, 5.8))\n",
    "    draw_simple_box(ax, \"Preprocessing\", (4, 5.8))\n",
    "    draw_simple_box(ax, \"Master Dataset\", (7.5, 5.8))\n",
    "\n",
    "    draw_simple_box(ax, \"EDA\", (0.5, 3.8))\n",
    "    draw_simple_box(ax, \"Forecast Models\", (4, 3.8))\n",
    "    draw_simple_box(ax, \"Evaluation\", (7.5, 3.8))\n",
    "\n",
    "    draw_simple_box(ax, \"Interactive Dashboard\", (4, 1.8), width=2.4, fc=\"#cce6ff\")  # centered\n",
    "\n",
    "    # Arrow style\n",
    "    arrow_kwargs = dict(arrowstyle=\"->\", color=\"#003366\", lw=1)\n",
    "    connect = lambda p1, p2: ax.annotate(\"\", xy=p2, xytext=p1, arrowprops=arrow_kwargs)\n",
    "\n",
    "    # Top row connections\n",
    "    connect((2.9, 6.15), (4, 6.15))\n",
    "    connect((6.4, 6.15), (7.5, 6.15))\n",
    "\n",
    "    # Down arrows top to mid row\n",
    "    connect((1.7, 5.8), (1.7, 4.5))\n",
    "    connect((5.2, 5.8), (5.2, 4.5))\n",
    "    connect((8.7, 5.8), (8.7, 4.5))\n",
    "\n",
    "    # Mid row connections\n",
    "    connect((2.9, 4.15), (4, 4.15))\n",
    "    connect((6.4, 4.15), (7.5, 4.15))\n",
    "\n",
    "    # Arrows from all mid row to dashboard\n",
    "    connect((1.7, 3.8), (5, 2.5))\n",
    "    connect((5.2, 3.8), (5, 2.5))\n",
    "    connect((8.7, 3.8), (6.4, 2.5))\n",
    "\n",
    "    plt.savefig(save_path, dpi=300, bbox_inches='tight')\n",
    "    print(f\"Saved diagram to {save_path}\")\n",
    "\n",
    "if __name__ == \"__main__\":\n",
    "    build_diagram(\"Figure_3_1_System_Architecture_CenteredDashboard.png\")\n"
   ]
  },
  {
   "cell_type": "code",
   "execution_count": null,
   "id": "9b1468e6",
   "metadata": {},
   "outputs": [],
   "source": [
    "build_diagram('/mnt/data/Figure_3_1_from_notebook.png')"
   ]
  }
 ],
 "metadata": {
  "language_info": {
   "name": "python"
  }
 },
 "nbformat": 4,
 "nbformat_minor": 5
}
